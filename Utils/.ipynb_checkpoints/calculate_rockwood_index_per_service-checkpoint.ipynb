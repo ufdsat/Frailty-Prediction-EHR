{
 "cells": [
  {
   "cell_type": "code",
   "execution_count": null,
   "id": "28770747",
   "metadata": {},
   "outputs": [],
   "source": [
    "from utils import calculate_rockwood_index, compare_xgboost_frailty_index\n",
    "import os\n",
    "import warnings\n",
    "import pandas as pd\n",
    "import scipy\n",
    "warnings.filterwarnings('ignore')"
   ]
  },
  {
   "cell_type": "code",
   "execution_count": null,
   "id": "d9610799",
   "metadata": {},
   "outputs": [],
   "source": [
    "for service in [\"ALL\", \"Medicine Gastroenterology\", \"Urology\", \"Neurosurgery\", \"Orthopaedics\", \"Otolaryngology\",\n",
    "                \"Vascular Surgery\", \"Thoracic Cardiovascular Surgery\", \"Ophthalmology\"]:\n",
    "    rock_wood_data, rock_wood_desc, cut_off_data = calculate_rockwood_index(service)\n",
    "    auc = rock_wood_desc['auc']\n",
    "    print(service, \": \", auc)"
   ]
  },
  {
   "cell_type": "code",
   "execution_count": null,
   "id": "b3ea72d9",
   "metadata": {},
   "outputs": [],
   "source": [
    "compare_xgboost_frailty_index(\"ALL\", 0.17)"
   ]
  },
  {
   "cell_type": "code",
   "execution_count": null,
   "id": "3fd50f93",
   "metadata": {},
   "outputs": [],
   "source": [
    "compare_xgboost_frailty_index(\"Medicine Gastroenterology\", 0.17)"
   ]
  },
  {
   "cell_type": "code",
   "execution_count": null,
   "id": "7d3aa611",
   "metadata": {},
   "outputs": [],
   "source": [
    "compare_xgboost_frailty_index(\"Urology\", 0.20)"
   ]
  },
  {
   "cell_type": "code",
   "execution_count": null,
   "id": "1eee21d9",
   "metadata": {},
   "outputs": [],
   "source": [
    "compare_xgboost_frailty_index(\"Neurosurgery\", 0.17)"
   ]
  },
  {
   "cell_type": "code",
   "execution_count": null,
   "id": "95282b62",
   "metadata": {},
   "outputs": [],
   "source": [
    "compare_xgboost_frailty_index(\"Orthopaedics\", 0.17)"
   ]
  },
  {
   "cell_type": "code",
   "execution_count": null,
   "id": "e7afe4bc",
   "metadata": {},
   "outputs": [],
   "source": [
    "compare_xgboost_frailty_index(\"Otolaryngology\", 0.20)"
   ]
  },
  {
   "cell_type": "code",
   "execution_count": null,
   "id": "1ad6132a",
   "metadata": {},
   "outputs": [],
   "source": [
    "compare_xgboost_frailty_index(\"Vascular Surgery\", 0.23)"
   ]
  },
  {
   "cell_type": "code",
   "execution_count": null,
   "id": "e9f9be22",
   "metadata": {},
   "outputs": [],
   "source": [
    "compare_xgboost_frailty_index(\"Thoracic Cardiovascular Surgery\", 0.25)"
   ]
  },
  {
   "cell_type": "code",
   "execution_count": null,
   "id": "7356fdd5",
   "metadata": {},
   "outputs": [],
   "source": [
    "compare_xgboost_frailty_index(\"Ophthalmology\", 0.18)"
   ]
  },
  {
   "cell_type": "code",
   "execution_count": null,
   "id": "73ca0626",
   "metadata": {},
   "outputs": [],
   "source": [
    "# correlation between ML and rockwood index"
   ]
  },
  {
   "cell_type": "code",
   "execution_count": null,
   "id": "76c5d8f9",
   "metadata": {},
   "outputs": [],
   "source": [
    "rock_wood_data, rock_wood_desc, cut_off_data = calculate_rockwood_index(\"ALL\")"
   ]
  },
  {
   "cell_type": "code",
   "execution_count": null,
   "id": "6872f352",
   "metadata": {},
   "outputs": [],
   "source": [
    "rock_wood_data"
   ]
  },
  {
   "cell_type": "code",
   "execution_count": null,
   "id": "a33b57ca",
   "metadata": {},
   "outputs": [],
   "source": [
    "def correlation_coef(service):\n",
    "    if service == \"ALL\":\n",
    "        path = \"./../result/result-XGBoost/Predict Probability/\"\n",
    "    else:\n",
    "        path = \"./../result/result-\" + service + \"/Predict Probability/\"\n",
    "    \n",
    "    testdata = []\n",
    "    testfold = os.listdir(path)\n",
    "    for fold in testfold:\n",
    "        pred_prob = pd.read_pickle(path+fold)\n",
    "        testdata.append(pred_prob)\n",
    "    \n",
    "    testdata = pd.concat(testdata, axis=0).sort_index()\n",
    "    \n",
    "    rock_wood_data, rock_wood_desc, cut_off_data = calculate_rockwood_index(service)\n",
    "    \n",
    "    coef, pvalue = scipy.stats.pearsonr(testdata.values, rock_wood_data.rock_wood_index.values)\n",
    "    print(\"For service - %s, the correlation coefficient: %f, p-value: %f\"%(service, coef, pvalue))"
   ]
  },
  {
   "cell_type": "code",
   "execution_count": null,
   "id": "65b37bca",
   "metadata": {},
   "outputs": [],
   "source": [
    "for service in [\"ALL\", \"Medicine Gastroenterology\", \"Urology\", \"Neurosurgery\", \"Orthopaedics\", \"Otolaryngology\",\n",
    "                \"Vascular Surgery\", \"Thoracic Cardiovascular Surgery\", \"Ophthalmology\"]:\n",
    "    correlation_coef(service)"
   ]
  },
  {
   "cell_type": "code",
   "execution_count": null,
   "id": "53941a21",
   "metadata": {},
   "outputs": [],
   "source": []
  }
 ],
 "metadata": {
  "kernelspec": {
   "display_name": "Python (ML+Pytorch)",
   "language": "python",
   "name": "ml_env"
  },
  "language_info": {
   "codemirror_mode": {
    "name": "ipython",
    "version": 3
   },
   "file_extension": ".py",
   "mimetype": "text/x-python",
   "name": "python",
   "nbconvert_exporter": "python",
   "pygments_lexer": "ipython3",
   "version": "3.10.4"
  }
 },
 "nbformat": 4,
 "nbformat_minor": 5
}
