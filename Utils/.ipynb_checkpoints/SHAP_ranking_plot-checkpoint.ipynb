{
 "cells": [
  {
   "cell_type": "code",
   "execution_count": null,
   "id": "483f0136",
   "metadata": {},
   "outputs": [],
   "source": [
    "from utils import cal_draw_shap\n",
    "import matplotlib.pyplot as plt"
   ]
  },
  {
   "cell_type": "code",
   "execution_count": null,
   "id": "a4fa9e72",
   "metadata": {},
   "outputs": [],
   "source": [
    "for service in [\"ALL\", \"Medicine Gastroenterology\", \"Urology\", \"Neurosurgery\", \"Orthopaedics\", \"Otolaryngology\",\n",
    "                \"Vascular Surgery\", \"Thoracic Cardiovascular Surgery\", \"Ophthalmology\"]:\n",
    "    cal_draw_shap(service)\n",
    "    plt.show()"
   ]
  }
 ],
 "metadata": {
  "kernelspec": {
   "display_name": "Python (ML+Pytorch)",
   "language": "python",
   "name": "ml_env"
  },
  "language_info": {
   "codemirror_mode": {
    "name": "ipython",
    "version": 3
   },
   "file_extension": ".py",
   "mimetype": "text/x-python",
   "name": "python",
   "nbconvert_exporter": "python",
   "pygments_lexer": "ipython3",
   "version": "3.10.4"
  }
 },
 "nbformat": 4,
 "nbformat_minor": 5
}
