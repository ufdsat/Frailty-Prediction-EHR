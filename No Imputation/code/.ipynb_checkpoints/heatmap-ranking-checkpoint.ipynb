{
 "cells": [
  {
   "cell_type": "code",
   "execution_count": null,
   "id": "7ef5ea40",
   "metadata": {},
   "outputs": [],
   "source": [
    "import pandas as pd\n",
    "from utils import feature_dict"
   ]
  },
  {
   "cell_type": "code",
   "execution_count": null,
   "id": "99327567",
   "metadata": {},
   "outputs": [],
   "source": [
    "all_service = data = pd.read_csv(\"./../result/result-XGBoost/feature_ranking_ALL.csv\")\n",
    "all_service.drop([\"feature_importance_vals\"], axis=1, inplace=True)\n",
    "all_service.columns = [\"feature\", \"All\"]\n",
    "\n",
    "for service in [\"Medicine Gastroenterology\", \"Urology\", \"Neurosurgery\", \"Orthopaedics\", \"Otolaryngology\",\n",
    "                \"Vascular Surgery\", \"Thoracic Cardiovascular Surgery\", \"Ophthalmology\"]:\n",
    "    if service == \"ALL\":\n",
    "        service = \"XGBoost\"\n",
    "    \n",
    "    data = pd.read_csv(\"./../result/result-\" + service + \"/feature_ranking_\" + service + \".csv\")\n",
    "    data.drop([\"feature_importance_vals\"], axis=1, inplace=True)\n",
    "    data.columns = [\"feature\", service]\n",
    "    all_service = all_service.merge(data, on=\"feature\", how=\"left\")"
   ]
  },
  {
   "cell_type": "code",
   "execution_count": null,
   "id": "34a75f9e",
   "metadata": {},
   "outputs": [],
   "source": [
    "all_service.feature = [feature_dict[i] for i in all_service.feature]"
   ]
  },
  {
   "cell_type": "code",
   "execution_count": null,
   "id": "8c66a8a9",
   "metadata": {},
   "outputs": [],
   "source": [
    "all_service.columns = ['feature', 'All', 'Gastroenterology', 'Urology',\n",
    "       'Neurosurgery', 'Orthopaedics', 'Otolaryngology', 'Vascular Surgery',\n",
    "       'Thoracic Cardiac Surgery', 'Ophthalmology']"
   ]
  },
  {
   "cell_type": "code",
   "execution_count": null,
   "id": "e0183150",
   "metadata": {
    "scrolled": true
   },
   "outputs": [],
   "source": [
    "import seaborn as sns\n",
    "import matplotlib.pyplot as plt\n",
    "\n",
    "plt.figure(figsize=(50,55))\n",
    "sns.set(font_scale=5)\n",
    "all_service.index = all_service.feature\n",
    "all_service.drop([\"feature\"], axis=1, inplace=True)\n",
    "g = sns.heatmap(all_service, linewidths = 0.30, annot = True)\n",
    "\n",
    "g.set_ylabel(\"Feature\")\n",
    "g.set_xlabel(\"Service\")"
   ]
  },
  {
   "cell_type": "code",
   "execution_count": null,
   "id": "3c8e989e",
   "metadata": {},
   "outputs": [],
   "source": []
  }
 ],
 "metadata": {
  "kernelspec": {
   "display_name": "Python (ML+Pytorch)",
   "language": "python",
   "name": "ml_env"
  },
  "language_info": {
   "codemirror_mode": {
    "name": "ipython",
    "version": 3
   },
   "file_extension": ".py",
   "mimetype": "text/x-python",
   "name": "python",
   "nbconvert_exporter": "python",
   "pygments_lexer": "ipython3",
   "version": "3.10.4"
  }
 },
 "nbformat": 4,
 "nbformat_minor": 5
}
